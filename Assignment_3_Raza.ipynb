{
  "nbformat": 4,
  "nbformat_minor": 0,
  "metadata": {
    "colab": {
      "name": "Assignment_3_Raza.ipynb",
      "provenance": [],
      "collapsed_sections": []
    },
    "kernelspec": {
      "name": "python3",
      "display_name": "Python 3"
    },
    "language_info": {
      "name": "python"
    }
  },
  "cells": [
    {
      "cell_type": "markdown",
      "metadata": {
        "id": "wlayK6Oy2vxH"
      },
      "source": [
        "#solve the same question as that of Assignment 2 this time using dictionaries instead of lists Part 2: Solve the simplified wall calculation exercise which is using the Materials table employing what we saw today (you will first need to define the table as a dictionary, Hint: be aware of the difference between the standard length and the real length)"
      ]
    },
    {
      "cell_type": "markdown",
      "metadata": {
        "id": "tNw_Ej6g3Bi6"
      },
      "source": [
        "#Part 1"
      ]
    },
    {
      "cell_type": "code",
      "metadata": {
        "colab": {
          "base_uri": "https://localhost:8080/"
        },
        "id": "e17G-P_d3GA0",
        "outputId": "82269179-eb96-4a1b-f63f-2be95aa6488b"
      },
      "source": [
        "R_glass_1 = {\"name\":\"R_glass_1\",\"type\":\"cond\",\"l\":0.004,\"k\":0.78,\"area\":1.2}\n",
        "R_glass_2 = {\"name\":\"R_glass_2\",\"type\":\"cond\",\"l\":0.004,\"k\":0.78,\"area\":1.2}\n",
        "R_airgap = {\"name\":\"R_airgap\",\"type\":\"cond\",\"l\":0.010,\"k\":0.026,\"area\":1.2}\n",
        "R_i = {\"name\":\"R_i\",\"type\":\"conv\",\"h\":10,\"area\":1.2}\n",
        "R_o = {\"name\":\"R_o\",\"type\":\"conv\",\"h\":40,\"area\":1.2}\n",
        "Resistancelist = [R_glass_1,R_glass_2 ,R_i,R_o, R_airgap]\n",
        "R_tot = 0\n",
        "Resistance = {\"Rtot\":R_tot}\n",
        "for R in Resistancelist:\n",
        "  if R [\"type\"] == \"cond\":\n",
        "    Rvalue = round(R[\"l\"]/(R[\"k\"]*R[\"area\"]),4)\n",
        "  elif R[\"type\"]==\"conv\":\n",
        "    Rvalue = round(1/(R[\"h\"]*R[\"area\"]),4)\n",
        "  else:\n",
        "    print(\"what!!\")\n",
        "    Rvalue = 0\n",
        "  R_tot += Rvalue\n",
        "Tinf1 = 20 #C\n",
        "Tinf2 = -10 #C\n",
        "Q = round((Tinf1 - Tinf2)/R_tot,4) #W\n",
        "T1 = round(Tinf1 - (Q*(1/(R_i[\"area\"]*R_i[\"h\"]))),4)\n",
        "R_total = round(R_tot,4)\n",
        "print (\"total resistance = \"+str(R_total)+ \" C/W\")\n",
        "print (\"Heat transfer = \"+str(Q)+\" W and Temperature of the inner surface = \"+str(T1)+\" C.\")"
      ],
      "execution_count": 9,
      "outputs": [
        {
          "output_type": "stream",
          "name": "stdout",
          "text": [
            "total resistance = 0.4332 C/W\n",
            "Heat transfer = 69.2521 W and Temperature of the inner surface = 14.229 C.\n"
          ]
        }
      ]
    },
    {
      "cell_type": "markdown",
      "metadata": {
        "id": "vZev7DAu75ft"
      },
      "source": [
        "#Part 2"
      ]
    },
    {
      "cell_type": "code",
      "metadata": {
        "colab": {
          "base_uri": "https://localhost:8080/"
        },
        "id": "ojIzG_Q-77tq",
        "outputId": "cf6eed83-a204-4d19-b584-9373f2fa2914"
      },
      "source": [
        "ThermalResLibrary = {\"WoodBevelLaped\":{\"StandL\":200,\"Rvalue\":0.14},\"Cavity_wood\":{\"StandL\":90,\"Rvalue\":0.63},\"Outside_winter\":0.03,\"Cavity_ins\":{\"StandL\":25,\"Rvalue\":0.70},\"WoodFiberBoard\":{\"StandL\":13,\"Rvalue\":0.23},\"Gypsum\":{\"StandL\":13,\"Rvalue\":0.079},\"Inside_Air\":0.12}\n",
        "R_withWood = round(ThermalResLibrary[\"WoodBevelLaped\"][\"Rvalue\"]+ThermalResLibrary[\"Cavity_wood\"][\"Rvalue\"]+ThermalResLibrary[\"WoodFiberBoard\"][\"Rvalue\"]+ThermalResLibrary[\"Gypsum\"][\"Rvalue\"]+ThermalResLibrary[\"Inside_Air\"]+ThermalResLibrary[\"Outside_winter\"],4)\n",
        "R_withoutWood = round(ThermalResLibrary[\"WoodBevelLaped\"][\"Rvalue\"]+(ThermalResLibrary[\"Cavity_ins\"][\"Rvalue\"]*90/ThermalResLibrary[\"Cavity_ins\"][\"StandL\"])+ThermalResLibrary[\"WoodFiberBoard\"][\"Rvalue\"]+ThermalResLibrary[\"Gypsum\"][\"Rvalue\"]+ThermalResLibrary[\"Inside_Air\"]+ThermalResLibrary[\"Outside_winter\"],4)\n",
        "U_withWood = 1/R_withWood\n",
        "U_withoutWood = 1/R_withoutWood\n",
        "U_tot = 0.25*U_withWood + 0.75*U_withoutWood\n",
        "R_tot = 1/U_tot\n",
        "A = 0.8*50*2.5\n",
        "Ti = 22\n",
        "To = -2\n",
        "Q = round(U_tot*A*(Ti-To),4)\n",
        "print (\"Heat transfer = \"+str(Q)+\" W\")"
      ],
      "execution_count": 26,
      "outputs": [
        {
          "output_type": "stream",
          "name": "stdout",
          "text": [
            "Heat transfer = 1065.3098 W\n"
          ]
        }
      ]
    }
  ]
}