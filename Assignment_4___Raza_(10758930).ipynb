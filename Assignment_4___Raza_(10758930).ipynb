{
  "nbformat": 4,
  "nbformat_minor": 0,
  "metadata": {
    "colab": {
      "name": "Assignment #4 _ Raza (10758930).ipynb",
      "provenance": [],
      "collapsed_sections": []
    },
    "kernelspec": {
      "name": "python3",
      "display_name": "Python 3"
    },
    "language_info": {
      "name": "python"
    }
  },
  "cells": [
    {
      "cell_type": "markdown",
      "metadata": {
        "id": "mmMfRKENXz6_"
      },
      "source": [
        "##Part A\n",
        "Consider the simplified wall calculation example that we solved in the class, add an airgap with the thickness 40mm and eps1 =0.9 and eps2 = 0.05. Define the material library and the air gaps library as we have done in the class and modify the previous assignment in a way that would accept the airgap as one of the layers and find the overall heat transfer and find the total resistance."
      ]
    },
    {
      "cell_type": "code",
      "metadata": {
        "colab": {
          "base_uri": "https://localhost:8080/"
        },
        "id": "KjlHYzueX4Mq",
        "outputId": "67e58293-e2cb-4d3c-e9e7-67c2cdbaa927"
      },
      "source": [
        "myairgap = {\"name\":\"airgap\", \"eps1\":0.9, \"eps2\":0.05,\"thickness\":40}\n",
        "ThermalResLibrary = {\"WoodBevelLaped\":{\"StandL\":200,\"Rvalue\":0.14},\"Cavity_wood\":{\"StandL\":90,\"Rvalue\":0.63},\"Outside_winter\":{\"StandL\":0,\"Rvalue\":0.03},\"Cavity_ins\":{\"StandL\":25,\"Rvalue\":0.70},\"WoodFiberBoard\":{\"StandL\":13,\"Rvalue\":0.23},\"Gypsum\":{\"StandL\":13,\"Rvalue\":0.079},\"Inside_Air\":{\"StandL\":0,\"Rvalue\":0.12},\"Airgap\":{\"EffectiveEpsilon\":0.82,13:0.16,20:0.17,40:0.16,90:0.16}}\n",
        "CalculatedEffectiveEpsilon = 1/(1/myairgap[\"eps1\"]+1/myairgap[\"eps2\"]-1)\n",
        "R_withWood = round(ThermalResLibrary[\"WoodBevelLaped\"][\"Rvalue\"]+ThermalResLibrary[\"Cavity_wood\"][\"Rvalue\"]+ThermalResLibrary[\"WoodFiberBoard\"][\"Rvalue\"]+ThermalResLibrary[\"Gypsum\"][\"Rvalue\"]+ThermalResLibrary[\"Inside_Air\"][\"Rvalue\"]+ThermalResLibrary[\"Outside_winter\"][\"Rvalue\"]+(ThermalResLibrary[\"Airgap\"][myairgap[\"thickness\"]])*(CalculatedEffectiveEpsilon/ThermalResLibrary[\"Airgap\"][\"EffectiveEpsilon\"]),4) #As the given resistance value was for E_effective 0.82, so I multiplied with my E-effective and divided with given E_effective to get the desired R_value\n",
        "R_withoutWood = round(ThermalResLibrary[\"WoodBevelLaped\"][\"Rvalue\"]+(ThermalResLibrary[\"Cavity_ins\"][\"Rvalue\"]*90/ThermalResLibrary[\"Cavity_ins\"][\"StandL\"])+ThermalResLibrary[\"WoodFiberBoard\"][\"Rvalue\"]+ThermalResLibrary[\"Gypsum\"][\"Rvalue\"]+ThermalResLibrary[\"Inside_Air\"][\"Rvalue\"]+ThermalResLibrary[\"Outside_winter\"][\"Rvalue\"]+(ThermalResLibrary[\"Airgap\"][myairgap[\"thickness\"]])*(CalculatedEffectiveEpsilon/ThermalResLibrary[\"Airgap\"][\"EffectiveEpsilon\"]),4)\n",
        "U_withWood = 1/R_withWood\n",
        "U_withoutWood = 1/R_withoutWood\n",
        "U_tot = 0.25*U_withWood + 0.75*U_withoutWood\n",
        "R_tot = 1/U_tot\n",
        "A = 0.8*50*2.5\n",
        "Ti = 22\n",
        "To = -2\n",
        "Q = round(U_tot*A*(Ti-To),4)\n",
        "R_tot =round(R_tot,4) \n",
        "print (\"Heat transfer = \"+str(Q)+\" W\")\n",
        "print (\"Total Resistance = \"+str(R_tot)+\" C/W\")"
      ],
      "execution_count": null,
      "outputs": [
        {
          "output_type": "stream",
          "name": "stdout",
          "text": [
            "Heat transfer = 1059.6976 W\n",
            "Total Resistance = 2.2648 C/W\n"
          ]
        }
      ]
    },
    {
      "cell_type": "markdown",
      "metadata": {
        "id": "Hvb0VW0Uk2w_"
      },
      "source": [
        "##Part B\n",
        "put all those libraries and the procedure in a function that accepts a list of resistances and gives you as output a dictionary which includes the resistance value of each layer and the total thermal resistance."
      ]
    },
    {
      "cell_type": "code",
      "metadata": {
        "id": "a6GidZWAJcZ1"
      },
      "source": [
        "ThermalResLibrary = {\"WoodBevelLaped\":{\"StandL\":200,\"Rvalue\":0.14},\"Cavity_wood\":{\"StandL\":90,\"Rvalue\":0.63},\"Outside_winter\":{\"StandL\":1,\"Rvalue\":0.03},\"Cavity_ins\":{\"StandL\":25,\"Rvalue\":0.70},\"WoodFiberBoard\":{\"StandL\":13,\"Rvalue\":0.23},\"Gypsum\":{\"StandL\":13,\"Rvalue\":0.079},\"Inside_Air\":{\"StandL\":1,\"Rvalue\":0.12},\"Airgap\":{\"StandL\":0.82,\"Rvalue\":0.16}}"
      ],
      "execution_count": null,
      "outputs": []
    },
    {
      "cell_type": "code",
      "metadata": {
        "id": "LMIxAu71k8Kc"
      },
      "source": [
        "def epsilonEffective(eps1=0.9,eps2=0.05):\n",
        "  \"\"\"\n",
        "  This function simply calculates the effective emissivity !\n",
        "  the default value for eps1 0.9 and eps2 0.05\n",
        "  \"\"\"\n",
        "  result_epsilon = 1/(1/eps1+1/eps2-1)\n",
        "  return result_epsilon\n"
      ],
      "execution_count": null,
      "outputs": []
    },
    {
      "cell_type": "code",
      "metadata": {
        "colab": {
          "base_uri": "https://localhost:8080/"
        },
        "id": "wq_tOvMxpbBl",
        "outputId": "b7318f91-aed7-423e-a618-48a82ee1a9f5"
      },
      "source": [
        "epsilonEffective(0.9,0.05)"
      ],
      "execution_count": null,
      "outputs": [
        {
          "output_type": "execute_result",
          "data": {
            "text/plain": [
              "0.049723756906077346"
            ]
          },
          "metadata": {},
          "execution_count": 4
        }
      ]
    },
    {
      "cell_type": "code",
      "metadata": {
        "id": "M2lygcqslupJ"
      },
      "source": [
        "def materialResistance(name):\n",
        "  \"\"\"\n",
        "  This function gives you a list of required R value\n",
        "\n",
        "  \"\"\"\n",
        "  Req_Rlist=[]\n",
        "  for e in name:\n",
        "    RequiredR_value=ThermalResLibrary[e][\"Rvalue\"]\n",
        "    Req_Rlist.append(RequiredR_value)\n",
        "  Req_Rlist\n",
        "  return Req_Rlist"
      ],
      "execution_count": null,
      "outputs": []
    },
    {
      "cell_type": "code",
      "metadata": {
        "colab": {
          "base_uri": "https://localhost:8080/"
        },
        "id": "8MZE0f-IqnXT",
        "outputId": "805fd692-c16e-45f8-8afb-92519956534f"
      },
      "source": [
        "materialLibrary = [\"WoodBevelLaped\", \"Cavity_wood\", \"Outside_winter\", \"Cavity_ins\", \"WoodFiberBoard\", \"Gypsum\", \"Inside_Air\",\"Airgap\"]\n",
        "materialResistance(materialLibrary)\n"
      ],
      "execution_count": null,
      "outputs": [
        {
          "output_type": "execute_result",
          "data": {
            "text/plain": [
              "[0.14, 0.63, 0.03, 0.7, 0.23, 0.079, 0.12, 0.16]"
            ]
          },
          "metadata": {},
          "execution_count": 27
        }
      ]
    },
    {
      "cell_type": "code",
      "metadata": {
        "id": "8ZJsPcwf0zsp"
      },
      "source": [
        "def ourResistance(name,length):\n",
        "  \"\"\"\n",
        "  This function calculates the R value according to our length\n",
        "\n",
        "  \"\"\"\n",
        "  \n",
        "  R_corrected_1 = ThermalResLibrary[name][\"Rvalue\"]\n",
        "  R_corrected_2 = ThermalResLibrary[name][\"StandL\"]\n",
        "  R_corrected = round((R_corrected_1/R_corrected_2)*length,4)\n",
        "  return R_corrected"
      ],
      "execution_count": null,
      "outputs": []
    },
    {
      "cell_type": "code",
      "metadata": {
        "colab": {
          "base_uri": "https://localhost:8080/"
        },
        "id": "x4MDN64uKHM5",
        "outputId": "4521adef-230b-48fb-d4c3-4dc5724c2e30"
      },
      "source": [
        "ourmaterialandlength = {\"WoodBevelLaped\":200, \"Cavity_wood\":90, \"Outside_winter\":1, \"Cavity_ins\":90, \"WoodFiberBoard\":13, \"Gypsum\":13, \"Inside_Air\":1,\"Airgap\":epsilonEffective(0.9,0.05)}\n",
        "R_correctedlist=[]\n",
        "for e in materialLibrary:\n",
        "  R_c = ourResistance(e,ourmaterialandlength[e])\n",
        "  R_correctedlist.append(R_c)\n",
        "R_correctedlist\n",
        "\n"
      ],
      "execution_count": 47,
      "outputs": [
        {
          "output_type": "execute_result",
          "data": {
            "text/plain": [
              "[0.14, 0.63, 0.03, 2.52, 0.23, 0.079, 0.12, 0.0097]"
            ]
          },
          "metadata": {},
          "execution_count": 47
        }
      ]
    },
    {
      "cell_type": "code",
      "metadata": {
        "colab": {
          "base_uri": "https://localhost:8080/"
        },
        "id": "0Vm23E0QTFUw",
        "outputId": "9cafd8b9-2e30-4a27-b76c-ffae3bfa39f9"
      },
      "source": [
        "R_Wood = R_correctedlist[0]+R_correctedlist[1]+R_correctedlist[2]+R_correctedlist[4]+R_correctedlist[5]+R_correctedlist[6]+R_correctedlist[7]\n",
        "R_Cavity = R_correctedlist[0]+R_correctedlist[3]+R_correctedlist[2]+R_correctedlist[4]+R_correctedlist[5]+R_correctedlist[6]+R_correctedlist[7]\n",
        "U_wood = 1/R_Wood\n",
        "U_Cavity = 1/R_Cavity\n",
        "U_tot = 0.25*U_wood + 0.75*U_Cavity\n",
        "R_tot = round(1/U_tot,4)\n",
        "R_tot "
      ],
      "execution_count": null,
      "outputs": [
        {
          "output_type": "execute_result",
          "data": {
            "text/plain": [
              "2.2648"
            ]
          },
          "metadata": {},
          "execution_count": 45
        }
      ]
    },
    {
      "cell_type": "code",
      "metadata": {
        "colab": {
          "base_uri": "https://localhost:8080/"
        },
        "id": "yuv_T05IVhd0",
        "outputId": "2aba4d39-39c0-4227-cae4-4205c31ee752"
      },
      "source": [
        "A = 0.8*50*2.5\n",
        "Ti = 22\n",
        "To = -2\n",
        "Q = round(U_tot*A*(Ti-To),4)\n",
        "print (\"Heat transfer = \"+str(Q)+\" W\")\n",
        "print (\"Total Resistance = \"+str(R_tot)+\" C/W\")"
      ],
      "execution_count": null,
      "outputs": [
        {
          "output_type": "stream",
          "name": "stdout",
          "text": [
            "Heat transfer = 1059.6976 W\n",
            "Total Resistance = 2.2648 C/W\n"
          ]
        }
      ]
    }
  ]
}