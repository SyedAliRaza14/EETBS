{
  "nbformat": 4,
  "nbformat_minor": 0,
  "metadata": {
    "colab": {
      "name": "Assignment # 2 _ Raza.ipynb",
      "provenance": []
    },
    "kernelspec": {
      "name": "python3",
      "display_name": "Python 3"
    },
    "language_info": {
      "name": "python"
    }
  },
  "cells": [
    {
      "cell_type": "markdown",
      "metadata": {
        "id": "y1hXXVnZL0eH"
      },
      "source": [
        "##Question"
      ]
    },
    {
      "cell_type": "markdown",
      "metadata": {
        "id": "yCt9NPCtL2X2"
      },
      "source": [
        "Consider a 0.8-m-high and 1.5-m-wide double-pane window consisting of two 4-mm-thick layers of glass (k= 0.78 W/m.°C) separated by a 10-mm-wide stagnant air space (k= 0.026 W/m.°C). Determine the steady rate of heat transfer through this double-pane window and the temperature of its inner surface. Take the convection heat transfer coefficients on the inner and outer surfaces of the window to be h1= 10 W/m2 · °C and h2=40 W/m2 · °C, which includes the effects of radiation"
      ]
    },
    {
      "cell_type": "markdown",
      "metadata": {
        "id": "YoCWry_DNPLr"
      },
      "source": [
        "#Solution"
      ]
    },
    {
      "cell_type": "code",
      "metadata": {
        "colab": {
          "base_uri": "https://localhost:8080/"
        },
        "id": "Dvc0y8p2NTQO",
        "outputId": "1f03770f-0725-40c4-9051-0f69b80d964c"
      },
      "source": [
        "R_glass_1 = [\"R_glass_1\",\"cond\",0.004,1.2,0.78] #Name, Type, Length, Area, K\n",
        "R_glass_2 = [\"R_glass_2\",\"cond\",0.004,1.2,0.78] #Name, Type, Length, Area, K\n",
        "R_conv_i = [\"R_inner\",\"conv\",1.2,10] #Name, Type, Area, h\n",
        "R_conv_o = [\"R_outer\",\"conv\",1.2,40] #Name, Type, Area, h\n",
        "R_airgap = [\"R_airgap\",\"cond\",0.010,1.2,0.026] #Name, Type, Length, Area, K\n",
        "Resistancelist = [R_glass_1,R_glass_2 ,R_conv_i,R_conv_o, R_airgap]\n",
        "R_total = 0\n",
        "for resistance in Resistancelist:\n",
        "  if resistance[1]==\"cond\":\n",
        "    R_resistance = resistance[2]/(resistance[3]*resistance[4])\n",
        "  elif resistance[1] ==\"conv\":\n",
        "    R_resistance = 1/(resistance[2]*resistance[3])\n",
        "  else:\n",
        "    print(\"you must have done something wrong\")\n",
        "    R_resistance = 0\n",
        "  R_total += R_resistance\n",
        "Tinf1 = 20 #C\n",
        "Tinf2 = -10 #C\n",
        "Q = (Tinf1 - Tinf2)/R_total #W\n",
        "T1 = Tinf1 - (Q*(1/(R_conv_i[2]*R_conv_i[3])))\n",
        "R_total = round(R_total,4)\n",
        "Q = round(Q,2)\n",
        "T1 = round(T1,1)\n",
        "print (\"total resistance = \"+str(R_total)+ \" C/W\")\n",
        "print (\"Heat transfer = \"+str(Q)+\" W and Temperature of the inner surface = \"+str(T1)+\" C.\")"
      ],
      "execution_count": 6,
      "outputs": [
        {
          "output_type": "stream",
          "name": "stdout",
          "text": [
            "total resistance = 0.4332 C/W\n",
            "Heat transfer = 69.25 W and Temperature of the inner surface = 14.2 C.\n"
          ]
        }
      ]
    }
  ]
}