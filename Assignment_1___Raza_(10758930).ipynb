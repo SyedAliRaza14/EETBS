{
  "nbformat": 4,
  "nbformat_minor": 0,
  "metadata": {
    "colab": {
      "name": "Assignment # 1 _ Raza (10758930).ipynb",
      "provenance": []
    },
    "kernelspec": {
      "name": "python3",
      "display_name": "Python 3"
    },
    "language_info": {
      "name": "python"
    }
  },
  "cells": [
    {
      "cell_type": "code",
      "metadata": {
        "id": "gt0Ou_s_Lsoh"
      },
      "source": [
        ""
      ],
      "execution_count": null,
      "outputs": []
    },
    {
      "cell_type": "markdown",
      "metadata": {
        "id": "Fs3R0qKdLvy0"
      },
      "source": [
        "#Question A\n",
        "Consider a 0.8 m high and 1.5 m wide glass window, shown above \n",
        "with a thermal conductivity of k =0.78 W/m·°C. Determine the \n",
        "steady rate of heat transfer through this glass window and the \n",
        "temperature of its inner surface\n"
      ]
    },
    {
      "cell_type": "code",
      "metadata": {
        "colab": {
          "base_uri": "https://localhost:8080/"
        },
        "id": "9LGk8XnZL4Rn",
        "outputId": "2210f2b6-6a3f-4036-d73d-92f59d2a2754"
      },
      "source": [
        "h = 0.8 #m\n",
        "w = 1.5 #m\n",
        "A = h*w #m2\n",
        "if material == \"glass\":\n",
        "  k = 0.78 #W/mK\n",
        "elif material == \"air\":\n",
        "  k = 0.026 #W/mK\n",
        "else:\n",
        "  print (\"Material Not Found\")\n",
        "material = \"glass\"\n",
        "To = 20 #C; Infinity 1\n",
        "Ti = -10 #C; Infinity 2 \n",
        "L = 0.008 #m\n",
        "Ho = 10 #W/m2C\n",
        "Hi = 40 #W/m2C\n",
        "#There will be three resistences first one would be due to Convection, next one will be conduction (glass) and third one will be convection\n",
        "Ro = 1/(Ho*A) #C/W\n",
        "Ri = 1/(Hi*A) #C/W\n",
        "Rg = L/(k*A) #C/W\n",
        "Rt = Ro + Ri + Rg\n",
        "Q = (To - Ti)/Rt #W\n",
        "T1 = To - Q*Ro #C\n",
        "print (\"The heat transfer is determined to be \" +str(Q)+ \" W and the temperature of the internal surface of the glass is determined to be \" +str(T1)+ \" degC\")"
      ],
      "execution_count": 8,
      "outputs": [
        {
          "output_type": "stream",
          "name": "stdout",
          "text": [
            "The heat transfer is determined to be 266.16113744075835 W and the temperature of the internal surface of the glass is determined to be -2.180094786729857 degC\n"
          ]
        }
      ]
    },
    {
      "cell_type": "markdown",
      "metadata": {
        "id": "TSH26VPAQex8"
      },
      "source": [
        "#Question B\n",
        "Consider a 0.8-m-high and 1.5-m-wide double-pane window consisting of two 4-\n",
        "mm-thick layers of glass\n",
        "(k= 0.78 W/m.°C) separated by a 10-mm-wide stagnant air space (k= 0.026 \n",
        "W/m.°C). Determine the steady\n",
        "rate of heat transfer through this double-pane window and the temperature of its \n",
        "inner surface.\n",
        "Take the convection heat transfer coefficients on the inner and outer surfaces of \n",
        "the window to be h1= 10\n",
        "W/m2 · °C and h2=40 W/m2 · °C, which includes the effects of radiation\n"
      ]
    },
    {
      "cell_type": "code",
      "metadata": {
        "colab": {
          "base_uri": "https://localhost:8080/"
        },
        "id": "P-_v04cbQmCf",
        "outputId": "ba7a2ca8-30ba-448e-eff4-e235da81d8ea"
      },
      "source": [
        "h = 0.8 #m\n",
        "w = 1.5 #m\n",
        "A = h*w #m2\n",
        "Lg = 0.004 #m\n",
        "La = 0.01 #m\n",
        "material = \"glass\"\n",
        "if material == \"glass\":\n",
        "  k = 0.78 #W/mK\n",
        "elif material == \"air\":\n",
        "  k = 0.026 #W/mK\n",
        "else:\n",
        "  print (\"Material Not Found\")\n",
        "Rg = Lg/(k*A) #C/W\n",
        "material = \"air\"\n",
        "if material == \"glass\":\n",
        "  k = 0.78 #W/mK\n",
        "elif material == \"air\":\n",
        "  k = 0.026 #W/mK\n",
        "else:\n",
        "  print (\"Material Not Found\")\n",
        "Ra = La/(k*A) #C/W\n",
        "To = 20 #C; Infinity 1\n",
        "Ti = -10 #C; Infinity 2 \n",
        "Ho = 10 #W/m2C\n",
        "Hi = 40 #W/m2C\n",
        "Ro = 1/(Ho*A) #C/W\n",
        "Ri = 1/(Hi*A) #C/W\n",
        "Rt = Ro + Ri + 2*Rg + Ra\n",
        "Q = (To - Ti)/Rt #W\n",
        "T1 = To - Q*Ro #C\n",
        "print (\"The heat transfer is determined to be \" +str(Q)+ \" W and the temperature of the internal surface of the glass is determined to be \" +str(T1)+ \" degC\")\n"
      ],
      "execution_count": 14,
      "outputs": [
        {
          "output_type": "stream",
          "name": "stdout",
          "text": [
            "The heat transfer is determined to be 69.2478421701603 W and the temperature of the internal surface of the glass is determined to be 14.229346485819978 degC\n"
          ]
        }
      ]
    }
  ]
}