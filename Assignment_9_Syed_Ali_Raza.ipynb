{
  "nbformat": 4,
  "nbformat_minor": 0,
  "metadata": {
    "colab": {
      "name": "Assignment # 9 Syed Ali Raza.ipynb",
      "provenance": [],
      "collapsed_sections": []
    },
    "kernelspec": {
      "name": "python3",
      "display_name": "Python 3"
    },
    "language_info": {
      "name": "python"
    }
  },
  "cells": [
    {
      "cell_type": "markdown",
      "metadata": {
        "id": "ob6scASfvJFZ"
      },
      "source": [
        "##Assignment \n",
        "Add a new notebook in which you are loading the same dataset for the drive, create plots of the data (for consumption, temperature, and irradiance) and save it to a figure on Drive (keep using your name in all of the files you generate if you are using the shared folder). and also save the final Dataframe that you have generated to a modified_csv_yourname.csv fil\n"
      ]
    },
    {
      "cell_type": "code",
      "metadata": {
        "id": "k2ceb-ahzGlA"
      },
      "source": [
        "import numpy as np\n",
        "import pandas as pd\n",
        "import matplotlib.pyplot as plt\n",
        "import os\n"
      ],
      "execution_count": 5,
      "outputs": []
    },
    {
      "cell_type": "code",
      "metadata": {
        "colab": {
          "base_uri": "https://localhost:8080/"
        },
        "id": "5p03r5pRymdn",
        "outputId": "98f32f58-c076-4cb5-fc6b-49897ad50253"
      },
      "source": [
        "from google.colab import drive\n",
        "drive.mount('/content/drive')"
      ],
      "execution_count": 1,
      "outputs": [
        {
          "output_type": "stream",
          "name": "stdout",
          "text": [
            "Mounted at /content/drive\n"
          ]
        }
      ]
    },
    {
      "cell_type": "code",
      "metadata": {
        "id": "Z7w62Dzku-uE"
      },
      "source": [
        "MyData_Path =\"/content/drive/MyDrive/EETBS 2021-2022/Data\" \n",
        "Consumption_Name = \"consumption_5545.csv\"\n",
        "Temperature_Name = \"Austin_weather_2014.csv\"\n",
        "Irradiance_Name = \"irradiance_2014_gen.csv\""
      ],
      "execution_count": 4,
      "outputs": []
    },
    {
      "cell_type": "code",
      "metadata": {
        "id": "qcHkI5C0zsC1"
      },
      "source": [
        "Consumption_Path = os.path.join(MyData_Path,Consumption_Name)\n",
        "Temperature_Path = os.path.join(MyData_Path,Temperature_Name)\n",
        "Irradiance_Path = os.path.join(MyData_Path,Irradiance_Name)"
      ],
      "execution_count": 6,
      "outputs": []
    },
    {
      "cell_type": "code",
      "metadata": {
        "colab": {
          "base_uri": "https://localhost:8080/",
          "height": 35
        },
        "id": "hYM5fxy30FuF",
        "outputId": "ffd3338e-b2ba-4f78-b228-8eb123bc6381"
      },
      "source": [
        "Consumption_Path #Just Checking"
      ],
      "execution_count": 8,
      "outputs": [
        {
          "output_type": "execute_result",
          "data": {
            "application/vnd.google.colaboratory.intrinsic+json": {
              "type": "string"
            },
            "text/plain": [
              "'/content/drive/MyDrive/EETBS 2021-2022/Data/consumption_5545.csv'"
            ]
          },
          "metadata": {},
          "execution_count": 8
        }
      ]
    },
    {
      "cell_type": "code",
      "metadata": {
        "id": "ccRh7E-i0J3t"
      },
      "source": [
        "DF_Consumption = pd.read_csv(Consumption_Path,sep = \",\",index_col =0, parse_dates=[0])\n",
        "DF_Temperature_1 = pd.read_csv(Temperature_Path,sep=\";\",index_col = [\"localhour\"],parse_dates=[\"localhour\"],date_parser=lambda col:pd.to_datetime(col,utc=True).tz_convert(\"US/Central\").tz_localize(None))\n",
        "DF_Temperature = DF_Temperature_1[[\"temperature\"]]\n",
        "DF_Irradiance_1 =  pd.read_csv(Irradiance_Path,sep = \";\",index_col =[\"localhour\"], parse_dates=[\"localhour\"])\n",
        "DF_Irradiance = DF_Irradiance_1[[\"gen\"]]\n"
      ],
      "execution_count": 10,
      "outputs": []
    },
    {
      "cell_type": "code",
      "metadata": {
        "colab": {
          "base_uri": "https://localhost:8080/",
          "height": 423
        },
        "id": "Qqd4VdUkHqfr",
        "outputId": "a134f20c-7472-461f-ebee-adb908bca55d"
      },
      "source": [
        "DF_Consumption"
      ],
      "execution_count": 11,
      "outputs": [
        {
          "output_type": "execute_result",
          "data": {
            "text/html": [
              "<div>\n",
              "<style scoped>\n",
              "    .dataframe tbody tr th:only-of-type {\n",
              "        vertical-align: middle;\n",
              "    }\n",
              "\n",
              "    .dataframe tbody tr th {\n",
              "        vertical-align: top;\n",
              "    }\n",
              "\n",
              "    .dataframe thead th {\n",
              "        text-align: right;\n",
              "    }\n",
              "</style>\n",
              "<table border=\"1\" class=\"dataframe\">\n",
              "  <thead>\n",
              "    <tr style=\"text-align: right;\">\n",
              "      <th></th>\n",
              "      <th>air conditioner_5545</th>\n",
              "    </tr>\n",
              "  </thead>\n",
              "  <tbody>\n",
              "    <tr>\n",
              "      <th>2014-01-01 06:00:00</th>\n",
              "      <td>0.0</td>\n",
              "    </tr>\n",
              "    <tr>\n",
              "      <th>2014-01-01 07:00:00</th>\n",
              "      <td>0.0</td>\n",
              "    </tr>\n",
              "    <tr>\n",
              "      <th>2014-01-01 08:00:00</th>\n",
              "      <td>0.0</td>\n",
              "    </tr>\n",
              "    <tr>\n",
              "      <th>2014-01-01 09:00:00</th>\n",
              "      <td>0.0</td>\n",
              "    </tr>\n",
              "    <tr>\n",
              "      <th>2014-01-01 10:00:00</th>\n",
              "      <td>0.0</td>\n",
              "    </tr>\n",
              "    <tr>\n",
              "      <th>...</th>\n",
              "      <td>...</td>\n",
              "    </tr>\n",
              "    <tr>\n",
              "      <th>2014-12-31 01:00:00</th>\n",
              "      <td>NaN</td>\n",
              "    </tr>\n",
              "    <tr>\n",
              "      <th>2014-12-31 02:00:00</th>\n",
              "      <td>NaN</td>\n",
              "    </tr>\n",
              "    <tr>\n",
              "      <th>2014-12-31 03:00:00</th>\n",
              "      <td>NaN</td>\n",
              "    </tr>\n",
              "    <tr>\n",
              "      <th>2014-12-31 04:00:00</th>\n",
              "      <td>NaN</td>\n",
              "    </tr>\n",
              "    <tr>\n",
              "      <th>2014-12-31 05:00:00</th>\n",
              "      <td>NaN</td>\n",
              "    </tr>\n",
              "  </tbody>\n",
              "</table>\n",
              "<p>8736 rows × 1 columns</p>\n",
              "</div>"
            ],
            "text/plain": [
              "                     air conditioner_5545\n",
              "2014-01-01 06:00:00                   0.0\n",
              "2014-01-01 07:00:00                   0.0\n",
              "2014-01-01 08:00:00                   0.0\n",
              "2014-01-01 09:00:00                   0.0\n",
              "2014-01-01 10:00:00                   0.0\n",
              "...                                   ...\n",
              "2014-12-31 01:00:00                   NaN\n",
              "2014-12-31 02:00:00                   NaN\n",
              "2014-12-31 03:00:00                   NaN\n",
              "2014-12-31 04:00:00                   NaN\n",
              "2014-12-31 05:00:00                   NaN\n",
              "\n",
              "[8736 rows x 1 columns]"
            ]
          },
          "metadata": {},
          "execution_count": 11
        }
      ]
    },
    {
      "cell_type": "code",
      "metadata": {
        "colab": {
          "base_uri": "https://localhost:8080/",
          "height": 455
        },
        "id": "4MUkjMCtHugh",
        "outputId": "8cddde6d-01e2-4b69-e6ae-dd797abb6b67"
      },
      "source": [
        "DF_Irradiance"
      ],
      "execution_count": 12,
      "outputs": [
        {
          "output_type": "execute_result",
          "data": {
            "text/html": [
              "<div>\n",
              "<style scoped>\n",
              "    .dataframe tbody tr th:only-of-type {\n",
              "        vertical-align: middle;\n",
              "    }\n",
              "\n",
              "    .dataframe tbody tr th {\n",
              "        vertical-align: top;\n",
              "    }\n",
              "\n",
              "    .dataframe thead th {\n",
              "        text-align: right;\n",
              "    }\n",
              "</style>\n",
              "<table border=\"1\" class=\"dataframe\">\n",
              "  <thead>\n",
              "    <tr style=\"text-align: right;\">\n",
              "      <th></th>\n",
              "      <th>gen</th>\n",
              "    </tr>\n",
              "    <tr>\n",
              "      <th>localhour</th>\n",
              "      <th></th>\n",
              "    </tr>\n",
              "  </thead>\n",
              "  <tbody>\n",
              "    <tr>\n",
              "      <th>2014-01-01 00:00:00</th>\n",
              "      <td>-0.005967</td>\n",
              "    </tr>\n",
              "    <tr>\n",
              "      <th>2014-01-01 01:00:00</th>\n",
              "      <td>-0.006317</td>\n",
              "    </tr>\n",
              "    <tr>\n",
              "      <th>2014-01-01 02:00:00</th>\n",
              "      <td>-0.006350</td>\n",
              "    </tr>\n",
              "    <tr>\n",
              "      <th>2014-01-01 03:00:00</th>\n",
              "      <td>-0.006267</td>\n",
              "    </tr>\n",
              "    <tr>\n",
              "      <th>2014-01-01 04:00:00</th>\n",
              "      <td>-0.006767</td>\n",
              "    </tr>\n",
              "    <tr>\n",
              "      <th>...</th>\n",
              "      <td>...</td>\n",
              "    </tr>\n",
              "    <tr>\n",
              "      <th>2015-01-01 19:00:00</th>\n",
              "      <td>-0.005450</td>\n",
              "    </tr>\n",
              "    <tr>\n",
              "      <th>2015-01-01 20:00:00</th>\n",
              "      <td>-0.005600</td>\n",
              "    </tr>\n",
              "    <tr>\n",
              "      <th>2015-01-01 21:00:00</th>\n",
              "      <td>-0.005783</td>\n",
              "    </tr>\n",
              "    <tr>\n",
              "      <th>2015-01-01 22:00:00</th>\n",
              "      <td>-0.006450</td>\n",
              "    </tr>\n",
              "    <tr>\n",
              "      <th>2015-01-01 23:00:00</th>\n",
              "      <td>-0.006617</td>\n",
              "    </tr>\n",
              "  </tbody>\n",
              "</table>\n",
              "<p>8783 rows × 1 columns</p>\n",
              "</div>"
            ],
            "text/plain": [
              "                          gen\n",
              "localhour                    \n",
              "2014-01-01 00:00:00 -0.005967\n",
              "2014-01-01 01:00:00 -0.006317\n",
              "2014-01-01 02:00:00 -0.006350\n",
              "2014-01-01 03:00:00 -0.006267\n",
              "2014-01-01 04:00:00 -0.006767\n",
              "...                       ...\n",
              "2015-01-01 19:00:00 -0.005450\n",
              "2015-01-01 20:00:00 -0.005600\n",
              "2015-01-01 21:00:00 -0.005783\n",
              "2015-01-01 22:00:00 -0.006450\n",
              "2015-01-01 23:00:00 -0.006617\n",
              "\n",
              "[8783 rows x 1 columns]"
            ]
          },
          "metadata": {},
          "execution_count": 12
        }
      ]
    },
    {
      "cell_type": "code",
      "metadata": {
        "colab": {
          "base_uri": "https://localhost:8080/",
          "height": 455
        },
        "id": "YOdw5ZdNHwvl",
        "outputId": "86b49098-e8ae-41c1-aea6-25ce11363a5d"
      },
      "source": [
        "DF_Temperature"
      ],
      "execution_count": 13,
      "outputs": [
        {
          "output_type": "execute_result",
          "data": {
            "text/html": [
              "<div>\n",
              "<style scoped>\n",
              "    .dataframe tbody tr th:only-of-type {\n",
              "        vertical-align: middle;\n",
              "    }\n",
              "\n",
              "    .dataframe tbody tr th {\n",
              "        vertical-align: top;\n",
              "    }\n",
              "\n",
              "    .dataframe thead th {\n",
              "        text-align: right;\n",
              "    }\n",
              "</style>\n",
              "<table border=\"1\" class=\"dataframe\">\n",
              "  <thead>\n",
              "    <tr style=\"text-align: right;\">\n",
              "      <th></th>\n",
              "      <th>temperature</th>\n",
              "    </tr>\n",
              "    <tr>\n",
              "      <th>localhour</th>\n",
              "      <th></th>\n",
              "    </tr>\n",
              "  </thead>\n",
              "  <tbody>\n",
              "    <tr>\n",
              "      <th>2014-01-01 00:00:00</th>\n",
              "      <td>40.36</td>\n",
              "    </tr>\n",
              "    <tr>\n",
              "      <th>2014-01-01 01:00:00</th>\n",
              "      <td>38.11</td>\n",
              "    </tr>\n",
              "    <tr>\n",
              "      <th>2014-01-01 02:00:00</th>\n",
              "      <td>38.65</td>\n",
              "    </tr>\n",
              "    <tr>\n",
              "      <th>2014-01-01 03:00:00</th>\n",
              "      <td>38.47</td>\n",
              "    </tr>\n",
              "    <tr>\n",
              "      <th>2014-01-01 04:00:00</th>\n",
              "      <td>38.00</td>\n",
              "    </tr>\n",
              "    <tr>\n",
              "      <th>...</th>\n",
              "      <td>...</td>\n",
              "    </tr>\n",
              "    <tr>\n",
              "      <th>2015-01-01 19:00:00</th>\n",
              "      <td>38.14</td>\n",
              "    </tr>\n",
              "    <tr>\n",
              "      <th>2015-01-01 20:00:00</th>\n",
              "      <td>38.18</td>\n",
              "    </tr>\n",
              "    <tr>\n",
              "      <th>2015-01-01 21:00:00</th>\n",
              "      <td>38.25</td>\n",
              "    </tr>\n",
              "    <tr>\n",
              "      <th>2015-01-01 22:00:00</th>\n",
              "      <td>39.11</td>\n",
              "    </tr>\n",
              "    <tr>\n",
              "      <th>2015-01-01 23:00:00</th>\n",
              "      <td>39.26</td>\n",
              "    </tr>\n",
              "  </tbody>\n",
              "</table>\n",
              "<p>8736 rows × 1 columns</p>\n",
              "</div>"
            ],
            "text/plain": [
              "                     temperature\n",
              "localhour                       \n",
              "2014-01-01 00:00:00        40.36\n",
              "2014-01-01 01:00:00        38.11\n",
              "2014-01-01 02:00:00        38.65\n",
              "2014-01-01 03:00:00        38.47\n",
              "2014-01-01 04:00:00        38.00\n",
              "...                          ...\n",
              "2015-01-01 19:00:00        38.14\n",
              "2015-01-01 20:00:00        38.18\n",
              "2015-01-01 21:00:00        38.25\n",
              "2015-01-01 22:00:00        39.11\n",
              "2015-01-01 23:00:00        39.26\n",
              "\n",
              "[8736 rows x 1 columns]"
            ]
          },
          "metadata": {},
          "execution_count": 13
        }
      ]
    },
    {
      "cell_type": "code",
      "metadata": {
        "colab": {
          "base_uri": "https://localhost:8080/"
        },
        "id": "d5rK1j3QH4UP",
        "outputId": "136868cb-ab2b-4bcd-d7d6-45020f967606"
      },
      "source": [
        "DF_Irradiance.loc[DF_Irradiance[\"gen\"]<0,\"gen\"] = 0"
      ],
      "execution_count": 14,
      "outputs": [
        {
          "output_type": "stream",
          "name": "stderr",
          "text": [
            "/usr/local/lib/python3.7/dist-packages/pandas/core/indexing.py:670: SettingWithCopyWarning: \n",
            "A value is trying to be set on a copy of a slice from a DataFrame\n",
            "\n",
            "See the caveats in the documentation: https://pandas.pydata.org/pandas-docs/stable/user_guide/indexing.html#returning-a-view-versus-a-copy\n",
            "  iloc._setitem_with_indexer(indexer, value)\n",
            "/usr/local/lib/python3.7/dist-packages/ipykernel_launcher.py:1: SettingWithCopyWarning: \n",
            "A value is trying to be set on a copy of a slice from a DataFrame\n",
            "\n",
            "See the caveats in the documentation: https://pandas.pydata.org/pandas-docs/stable/user_guide/indexing.html#returning-a-view-versus-a-copy\n",
            "  \"\"\"Entry point for launching an IPython kernel.\n"
          ]
        }
      ]
    },
    {
      "cell_type": "code",
      "metadata": {
        "colab": {
          "base_uri": "https://localhost:8080/",
          "height": 455
        },
        "id": "Ku19qgJSIMu0",
        "outputId": "28054a09-7512-48d7-b192-b70980377bca"
      },
      "source": [
        "DF_Irradiance"
      ],
      "execution_count": 15,
      "outputs": [
        {
          "output_type": "execute_result",
          "data": {
            "text/html": [
              "<div>\n",
              "<style scoped>\n",
              "    .dataframe tbody tr th:only-of-type {\n",
              "        vertical-align: middle;\n",
              "    }\n",
              "\n",
              "    .dataframe tbody tr th {\n",
              "        vertical-align: top;\n",
              "    }\n",
              "\n",
              "    .dataframe thead th {\n",
              "        text-align: right;\n",
              "    }\n",
              "</style>\n",
              "<table border=\"1\" class=\"dataframe\">\n",
              "  <thead>\n",
              "    <tr style=\"text-align: right;\">\n",
              "      <th></th>\n",
              "      <th>gen</th>\n",
              "    </tr>\n",
              "    <tr>\n",
              "      <th>localhour</th>\n",
              "      <th></th>\n",
              "    </tr>\n",
              "  </thead>\n",
              "  <tbody>\n",
              "    <tr>\n",
              "      <th>2014-01-01 00:00:00</th>\n",
              "      <td>0.0</td>\n",
              "    </tr>\n",
              "    <tr>\n",
              "      <th>2014-01-01 01:00:00</th>\n",
              "      <td>0.0</td>\n",
              "    </tr>\n",
              "    <tr>\n",
              "      <th>2014-01-01 02:00:00</th>\n",
              "      <td>0.0</td>\n",
              "    </tr>\n",
              "    <tr>\n",
              "      <th>2014-01-01 03:00:00</th>\n",
              "      <td>0.0</td>\n",
              "    </tr>\n",
              "    <tr>\n",
              "      <th>2014-01-01 04:00:00</th>\n",
              "      <td>0.0</td>\n",
              "    </tr>\n",
              "    <tr>\n",
              "      <th>...</th>\n",
              "      <td>...</td>\n",
              "    </tr>\n",
              "    <tr>\n",
              "      <th>2015-01-01 19:00:00</th>\n",
              "      <td>0.0</td>\n",
              "    </tr>\n",
              "    <tr>\n",
              "      <th>2015-01-01 20:00:00</th>\n",
              "      <td>0.0</td>\n",
              "    </tr>\n",
              "    <tr>\n",
              "      <th>2015-01-01 21:00:00</th>\n",
              "      <td>0.0</td>\n",
              "    </tr>\n",
              "    <tr>\n",
              "      <th>2015-01-01 22:00:00</th>\n",
              "      <td>0.0</td>\n",
              "    </tr>\n",
              "    <tr>\n",
              "      <th>2015-01-01 23:00:00</th>\n",
              "      <td>0.0</td>\n",
              "    </tr>\n",
              "  </tbody>\n",
              "</table>\n",
              "<p>8783 rows × 1 columns</p>\n",
              "</div>"
            ],
            "text/plain": [
              "                     gen\n",
              "localhour               \n",
              "2014-01-01 00:00:00  0.0\n",
              "2014-01-01 01:00:00  0.0\n",
              "2014-01-01 02:00:00  0.0\n",
              "2014-01-01 03:00:00  0.0\n",
              "2014-01-01 04:00:00  0.0\n",
              "...                  ...\n",
              "2015-01-01 19:00:00  0.0\n",
              "2015-01-01 20:00:00  0.0\n",
              "2015-01-01 21:00:00  0.0\n",
              "2015-01-01 22:00:00  0.0\n",
              "2015-01-01 23:00:00  0.0\n",
              "\n",
              "[8783 rows x 1 columns]"
            ]
          },
          "metadata": {},
          "execution_count": 15
        }
      ]
    },
    {
      "cell_type": "code",
      "metadata": {
        "id": "25nNVyrjIPIk"
      },
      "source": [
        "DF_Complete_Data = DF_Consumption.join([DF_Irradiance,DF_Temperature])"
      ],
      "execution_count": 16,
      "outputs": []
    },
    {
      "cell_type": "code",
      "metadata": {
        "colab": {
          "base_uri": "https://localhost:8080/",
          "height": 423
        },
        "id": "Zm1s9__0ItiE",
        "outputId": "33c755e4-71c7-4dfc-c617-b3834300fff7"
      },
      "source": [
        "DF_Complete_Data"
      ],
      "execution_count": 17,
      "outputs": [
        {
          "output_type": "execute_result",
          "data": {
            "text/html": [
              "<div>\n",
              "<style scoped>\n",
              "    .dataframe tbody tr th:only-of-type {\n",
              "        vertical-align: middle;\n",
              "    }\n",
              "\n",
              "    .dataframe tbody tr th {\n",
              "        vertical-align: top;\n",
              "    }\n",
              "\n",
              "    .dataframe thead th {\n",
              "        text-align: right;\n",
              "    }\n",
              "</style>\n",
              "<table border=\"1\" class=\"dataframe\">\n",
              "  <thead>\n",
              "    <tr style=\"text-align: right;\">\n",
              "      <th></th>\n",
              "      <th>air conditioner_5545</th>\n",
              "      <th>gen</th>\n",
              "      <th>temperature</th>\n",
              "    </tr>\n",
              "  </thead>\n",
              "  <tbody>\n",
              "    <tr>\n",
              "      <th>2014-01-01 06:00:00</th>\n",
              "      <td>0.0</td>\n",
              "      <td>0.000000</td>\n",
              "      <td>39.36</td>\n",
              "    </tr>\n",
              "    <tr>\n",
              "      <th>2014-01-01 07:00:00</th>\n",
              "      <td>0.0</td>\n",
              "      <td>0.052800</td>\n",
              "      <td>37.86</td>\n",
              "    </tr>\n",
              "    <tr>\n",
              "      <th>2014-01-01 08:00:00</th>\n",
              "      <td>0.0</td>\n",
              "      <td>0.773583</td>\n",
              "      <td>38.97</td>\n",
              "    </tr>\n",
              "    <tr>\n",
              "      <th>2014-01-01 09:00:00</th>\n",
              "      <td>0.0</td>\n",
              "      <td>2.097700</td>\n",
              "      <td>45.85</td>\n",
              "    </tr>\n",
              "    <tr>\n",
              "      <th>2014-01-01 10:00:00</th>\n",
              "      <td>0.0</td>\n",
              "      <td>3.036750</td>\n",
              "      <td>51.42</td>\n",
              "    </tr>\n",
              "    <tr>\n",
              "      <th>...</th>\n",
              "      <td>...</td>\n",
              "      <td>...</td>\n",
              "      <td>...</td>\n",
              "    </tr>\n",
              "    <tr>\n",
              "      <th>2014-12-31 01:00:00</th>\n",
              "      <td>NaN</td>\n",
              "      <td>0.000000</td>\n",
              "      <td>38.96</td>\n",
              "    </tr>\n",
              "    <tr>\n",
              "      <th>2014-12-31 02:00:00</th>\n",
              "      <td>NaN</td>\n",
              "      <td>0.000000</td>\n",
              "      <td>38.81</td>\n",
              "    </tr>\n",
              "    <tr>\n",
              "      <th>2014-12-31 03:00:00</th>\n",
              "      <td>NaN</td>\n",
              "      <td>0.000000</td>\n",
              "      <td>39.33</td>\n",
              "    </tr>\n",
              "    <tr>\n",
              "      <th>2014-12-31 04:00:00</th>\n",
              "      <td>NaN</td>\n",
              "      <td>0.000000</td>\n",
              "      <td>39.54</td>\n",
              "    </tr>\n",
              "    <tr>\n",
              "      <th>2014-12-31 05:00:00</th>\n",
              "      <td>NaN</td>\n",
              "      <td>0.000000</td>\n",
              "      <td>38.99</td>\n",
              "    </tr>\n",
              "  </tbody>\n",
              "</table>\n",
              "<p>8738 rows × 3 columns</p>\n",
              "</div>"
            ],
            "text/plain": [
              "                     air conditioner_5545       gen  temperature\n",
              "2014-01-01 06:00:00                   0.0  0.000000        39.36\n",
              "2014-01-01 07:00:00                   0.0  0.052800        37.86\n",
              "2014-01-01 08:00:00                   0.0  0.773583        38.97\n",
              "2014-01-01 09:00:00                   0.0  2.097700        45.85\n",
              "2014-01-01 10:00:00                   0.0  3.036750        51.42\n",
              "...                                   ...       ...          ...\n",
              "2014-12-31 01:00:00                   NaN  0.000000        38.96\n",
              "2014-12-31 02:00:00                   NaN  0.000000        38.81\n",
              "2014-12-31 03:00:00                   NaN  0.000000        39.33\n",
              "2014-12-31 04:00:00                   NaN  0.000000        39.54\n",
              "2014-12-31 05:00:00                   NaN  0.000000        38.99\n",
              "\n",
              "[8738 rows x 3 columns]"
            ]
          },
          "metadata": {},
          "execution_count": 17
        }
      ]
    },
    {
      "cell_type": "code",
      "metadata": {
        "id": "ijC0kxELIwwd"
      },
      "source": [
        "ProcessFolder_path = \"/content/drive/MyDrive/EETBS 2021-2022/Processed Data\"\n",
        "DF_Complete_Data_Name = \"Modified_csv_Syed Ali Raza_(10758930).csv\"\n",
        "DF_Complete_Data_Path = os.path.join(ProcessFolder_path,DF_Complete_Data_Name)\n",
        "DF_Complete_Data.to_csv(DF_Complete_Data_Path)"
      ],
      "execution_count": 22,
      "outputs": []
    },
    {
      "cell_type": "code",
      "metadata": {
        "id": "nSxggdNoJzLE"
      },
      "source": [
        "DF_Complete_Data= DF_Complete_Data.rename(columns={\"air conditioner_5545\":\"consumption\",\"gen\":\"Irradiance\"})\n",
        "DF_Complete_Data.dropna(inplace=True)"
      ],
      "execution_count": 19,
      "outputs": []
    },
    {
      "cell_type": "code",
      "metadata": {
        "colab": {
          "base_uri": "https://localhost:8080/",
          "height": 423
        },
        "id": "MkaClu0NKR9l",
        "outputId": "da6e103f-2659-41d7-be42-f431ad5a536b"
      },
      "source": [
        "DF_Complete_Data"
      ],
      "execution_count": 20,
      "outputs": [
        {
          "output_type": "execute_result",
          "data": {
            "text/html": [
              "<div>\n",
              "<style scoped>\n",
              "    .dataframe tbody tr th:only-of-type {\n",
              "        vertical-align: middle;\n",
              "    }\n",
              "\n",
              "    .dataframe tbody tr th {\n",
              "        vertical-align: top;\n",
              "    }\n",
              "\n",
              "    .dataframe thead th {\n",
              "        text-align: right;\n",
              "    }\n",
              "</style>\n",
              "<table border=\"1\" class=\"dataframe\">\n",
              "  <thead>\n",
              "    <tr style=\"text-align: right;\">\n",
              "      <th></th>\n",
              "      <th>consumption</th>\n",
              "      <th>Irradiance</th>\n",
              "      <th>temperature</th>\n",
              "    </tr>\n",
              "  </thead>\n",
              "  <tbody>\n",
              "    <tr>\n",
              "      <th>2014-01-01 06:00:00</th>\n",
              "      <td>0.0</td>\n",
              "      <td>0.000000</td>\n",
              "      <td>39.36</td>\n",
              "    </tr>\n",
              "    <tr>\n",
              "      <th>2014-01-01 07:00:00</th>\n",
              "      <td>0.0</td>\n",
              "      <td>0.052800</td>\n",
              "      <td>37.86</td>\n",
              "    </tr>\n",
              "    <tr>\n",
              "      <th>2014-01-01 08:00:00</th>\n",
              "      <td>0.0</td>\n",
              "      <td>0.773583</td>\n",
              "      <td>38.97</td>\n",
              "    </tr>\n",
              "    <tr>\n",
              "      <th>2014-01-01 09:00:00</th>\n",
              "      <td>0.0</td>\n",
              "      <td>2.097700</td>\n",
              "      <td>45.85</td>\n",
              "    </tr>\n",
              "    <tr>\n",
              "      <th>2014-01-01 10:00:00</th>\n",
              "      <td>0.0</td>\n",
              "      <td>3.036750</td>\n",
              "      <td>51.42</td>\n",
              "    </tr>\n",
              "    <tr>\n",
              "      <th>...</th>\n",
              "      <td>...</td>\n",
              "      <td>...</td>\n",
              "      <td>...</td>\n",
              "    </tr>\n",
              "    <tr>\n",
              "      <th>2014-12-30 20:00:00</th>\n",
              "      <td>0.0</td>\n",
              "      <td>0.000000</td>\n",
              "      <td>41.52</td>\n",
              "    </tr>\n",
              "    <tr>\n",
              "      <th>2014-12-30 21:00:00</th>\n",
              "      <td>0.0</td>\n",
              "      <td>0.000000</td>\n",
              "      <td>40.37</td>\n",
              "    </tr>\n",
              "    <tr>\n",
              "      <th>2014-12-30 22:00:00</th>\n",
              "      <td>0.0</td>\n",
              "      <td>0.000000</td>\n",
              "      <td>40.15</td>\n",
              "    </tr>\n",
              "    <tr>\n",
              "      <th>2014-12-30 23:00:00</th>\n",
              "      <td>0.0</td>\n",
              "      <td>0.000000</td>\n",
              "      <td>40.00</td>\n",
              "    </tr>\n",
              "    <tr>\n",
              "      <th>2014-12-31 00:00:00</th>\n",
              "      <td>0.0</td>\n",
              "      <td>0.000000</td>\n",
              "      <td>38.74</td>\n",
              "    </tr>\n",
              "  </tbody>\n",
              "</table>\n",
              "<p>8671 rows × 3 columns</p>\n",
              "</div>"
            ],
            "text/plain": [
              "                     consumption  Irradiance  temperature\n",
              "2014-01-01 06:00:00          0.0    0.000000        39.36\n",
              "2014-01-01 07:00:00          0.0    0.052800        37.86\n",
              "2014-01-01 08:00:00          0.0    0.773583        38.97\n",
              "2014-01-01 09:00:00          0.0    2.097700        45.85\n",
              "2014-01-01 10:00:00          0.0    3.036750        51.42\n",
              "...                          ...         ...          ...\n",
              "2014-12-30 20:00:00          0.0    0.000000        41.52\n",
              "2014-12-30 21:00:00          0.0    0.000000        40.37\n",
              "2014-12-30 22:00:00          0.0    0.000000        40.15\n",
              "2014-12-30 23:00:00          0.0    0.000000        40.00\n",
              "2014-12-31 00:00:00          0.0    0.000000        38.74\n",
              "\n",
              "[8671 rows x 3 columns]"
            ]
          },
          "metadata": {},
          "execution_count": 20
        }
      ]
    },
    {
      "cell_type": "code",
      "metadata": {
        "id": "Uoh4Sg7OKYtD"
      },
      "source": [
        "ProcessFolder_path = \"/content/drive/MyDrive/EETBS 2021-2022/Processed Data\"\n",
        "DF_Complete_Data_Name = \"Modified_csv_Syed Ali Raza_(10758930).csv\"\n",
        "DF_Complete_Data_Path = os.path.join(ProcessFolder_path,DF_Complete_Data_Name)\n",
        "DF_Complete_Data.to_csv(DF_Complete_Data_Path)"
      ],
      "execution_count": 23,
      "outputs": []
    },
    {
      "cell_type": "code",
      "metadata": {
        "id": "03sv8q7jMmmz"
      },
      "source": [
        "DF_Complete_Data_selected= DF_Complete_Data.loc['2014-6-1 00:00:00':'2014-6-1 23:00:00']"
      ],
      "execution_count": 29,
      "outputs": []
    },
    {
      "cell_type": "code",
      "metadata": {
        "colab": {
          "base_uri": "https://localhost:8080/",
          "height": 740
        },
        "id": "728kaUVKK_FH",
        "outputId": "ceba4c0d-fd63-4601-a41c-4b637003faa1"
      },
      "source": [
        "fig, axs=plt.subplots(3,1,dpi=200,sharex=True)\n",
        "DF_Complete_Data_selected[[\"consumption\"]].plot(ax=axs[0])\n",
        "axs[0].legend([\"consumption\"])\n",
        "DF_Complete_Data_selected[[\"Irradiance\"]].plot(ax=axs[1])\n",
        "axs[1].legend([\"Irradiance\"])\n",
        "DF_Complete_Data_selected[[\"temperature\"]].plot(ax=axs[2])\n",
        "axs[2].legend([\"temperature\"])\n",
        "figName=\"10758930_consumption vs Irrad VS Temperature_Syed Ali Raza .jpg\"\n",
        "figuresFolderPath = \"/content/drive/MyDrive/EETBS 2021-2022/Processed Data/Figures\"\n",
        "fig_filepath = os.path.join(figuresFolderPath, figName)\n",
        "plt.savefig(fig_filepath)\n"
      ],
      "execution_count": 38,
      "outputs": [
        {
          "output_type": "display_data",
          "data": {
            "image/png": "[encoded data removed]",
            "text/plain": [
              "<Figure size 1200x800 with 3 Axes>"
            ]
          },
          "metadata": {
            "needs_background": "light"
          }
        }
      ]
    },
    {
      "cell_type": "code",
      "metadata": {
        "id": "SqCpk9ZsOt7U"
      },
      "source": [
        ""
      ],
      "execution_count": null,
      "outputs": []
    }
  ]
}